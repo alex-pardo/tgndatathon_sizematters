{
 "cells": [
  {
   "cell_type": "markdown",
   "id": "1725365f",
   "metadata": {},
   "source": []
  },
  {
   "cell_type": "code",
   "execution_count": null,
   "id": "a7f79ef2",
   "metadata": {},
   "outputs": [],
   "source": [
    "import boto3\n",
    "import pandas as pd\n",
    "import numpy as np\n",
    "import re\n",
    "from tqdm import tqdm_notebook\n",
    "from sagemaker import get_execution_role\n",
    "role = get_execution_role()\n",
    "s3 = boto3.resource('s3')"
   ]
  },
  {
   "cell_type": "code",
   "execution_count": null,
   "id": "9e694584",
   "metadata": {},
   "outputs": [],
   "source": [
    "# We will be using just hospitals 3 and 4\n",
    "icusics_db_patients = pd.read_parquet(\n",
    "    \"s3://icusics-db/patients/patients.parquet\")\n",
    "patients = icusics_db_patients[icusics_db_patients['hospital_coded'].isin(\n",
    "    [3, 4])].copy()"
   ]
  },
  {
   "cell_type": "markdown",
   "id": "a610f306",
   "metadata": {},
   "source": [
    "## We need to flag patients with antibiotic treatment to detect sepsis"
   ]
  },
  {
   "cell_type": "code",
   "execution_count": null,
   "id": "2c92b510",
   "metadata": {},
   "outputs": [],
   "source": [
    "antibiotics = [\n",
    "    'AMIKACINA', 'AMOXICIL.LINA+CLAVULANIC', 'AMOXICIL?LINA+CLAVULANIC',\n",
    "    'AMOXICIL·LINA+CLAVULANIC', 'AMPICIL.LINA', 'AMPICIL·LINA', 'AZITROMICINA',\n",
    "    'AZTREONAM', 'CEFAZOLINA', 'CEFEPIMA', 'CEFOTAXIMA', 'CEFTAZIDIMA',\n",
    "    'CEFTAZIDIMA+AVIBACTAM', 'CEFTOLOZANO+TAZOBACTAM', 'CEFTRIAXONA',\n",
    "    'CEFUROXIMA', 'CIPROFLOXACINA', 'CLARITROMICINA', 'CLINDAMICINA',\n",
    "    'CLOXACIL.LINA', 'CLOXACIL·LINA', 'COLIST+TOBRAMI(POLIANTIBIOTICA)',\n",
    "    'COLISTINA', 'COTRIMOXAZOL', 'COTRIMOXAZOLE',\n",
    "    'COTRIMOXAZOLE(TRIMETO+SULFAMETOX)', 'DAPTOMICINA', 'DOXICICLINA',\n",
    "    'ERITROMICINA', 'ERTAPENEM', 'FIDAXOMICINA', 'FOSFOMICINA', 'GENTAMICINA',\n",
    "    'IMIPENEM+CILASTATINA', 'LEVOFLOXACINO', 'LINEZOLID', 'MEROPENEM',\n",
    "    'METRONIDAZOL', 'NORFLOXACINO', 'PENICIL·LINA',\n",
    "    'PIPERACIL.LINA+TAZOBACTAM', 'PIPERACIL·LINA+TAZOBACTAM', 'SULBACTAM',\n",
    "    'SULFADIAZINA', 'TEICOPLANINA', 'TIGECICLINA', 'TOBRAMICINA', 'VANCOMICINA'\n",
    "]\n",
    "\n",
    "d_pharma = pd.read_parquet(f's3://icusics-db/d_pharma/d_pharma.parquet')\n",
    "d_pharma = d_pharma[d_pharma['hospital_coded'].isin([3, 4])].copy()\n",
    "d_pharma.loc[:, 'short_name'] = d_pharma['pharmaname'].apply(\n",
    "    lambda x: x.split(' ')[0])\n",
    "d_pharma = d_pharma[d_pharma['short_name'].isin(antibiotics)].copy()\n",
    "antibiotics_id = set(d_pharma['a_pharmaid'])\n",
    "del d_pharma"
   ]
  },
  {
   "cell_type": "code",
   "execution_count": null,
   "id": "88a8ff3d",
   "metadata": {},
   "outputs": [],
   "source": [
    "pharma_h3 = pd.read_parquet(f's3://icusics-db/pharma_records/pharma_records_h3.parquet')\n",
    "pharma_h3 = pharma_h3[pharma_h3['a_pharmaid'].isin(antibiotics_id) & (pharma_h3['time']<=1440)].copy()\n",
    "\n",
    "pharma_h4 = pd.read_parquet(f's3://icusics-db/pharma_records/pharma_records_h4.parquet')\n",
    "pharma_h4 = pharma_h4[pharma_h4['a_pharmaid'].isin(antibiotics_id) & (pharma_h4['time']<=1440)].copy()\n",
    "\n",
    "antibiotics_patients = pd.concat([pharma_h3[['a_patientid']], pharma_h4[['a_patientid']]]).drop_duplicates()"
   ]
  },
  {
   "cell_type": "markdown",
   "id": "a36b9c16",
   "metadata": {},
   "source": [
    "## We also need the sofa for finding septic patients"
   ]
  },
  {
   "cell_type": "markdown",
   "id": "3092a904",
   "metadata": {},
   "source": [
    "### Let's start with respiratory sofa"
   ]
  },
  {
   "cell_type": "code",
   "execution_count": null,
   "id": "999a68a2",
   "metadata": {},
   "outputs": [],
   "source": [
    "# First, look for the specific variables\n",
    "key_chars = 'SaO2/FiO2|SpO2/FiO2'\n",
    "\n",
    "pafi_result_dummy = d_variables[((d_variables['hospital_coded']==3) | (d_variables['hospital_coded']==4)) & (\n",
    "    (d_variables['name'].str.contains(key_chars, case=False, na=False)) | (\n",
    "    d_variables['description'].str.contains(key_chars, case=False, na=False)) | (\n",
    "    d_variables['abbreviation'].str.contains(key_chars, case=False, na=False)))]\n",
    "pafi_result_dummy"
   ]
  },
  {
   "cell_type": "code",
   "execution_count": null,
   "id": "84e0a75a",
   "metadata": {},
   "outputs": [],
   "source": [
    "# We will be using SaO2/FiO2\n",
    "def resp(x):\n",
    "    if x['ventilated'] and x['sao2_fio2'] < 67:\n",
    "        return 4\n",
    "    elif x['ventilated'] and x['sao2_fio2'] <= 141:\n",
    "        return 3\n",
    "    elif not x['ventilated'] and x['sao2_fio2'] <= 220:\n",
    "        return 2\n",
    "    elif not x['ventilated'] and x['sao2_fio2'] < 301:\n",
    "        return 1\n",
    "    return 0\n",
    "\n",
    "\n",
    "# We have identified variable IDs 3030003500, 4030003500 to be the SaO2/FiO2 value\n",
    "sao2_fio2 = []\n",
    "for my_bucket_object in tqdm_notebook(bucket.objects.all(),\n",
    "                                      total=len(list(bucket.objects.all()))):\n",
    "\n",
    "    if all(x in my_bucket_object.key for x in ['derived_numeric_']):\n",
    "\n",
    "        boundaries = re.findall('\\d+', my_bucket_object.key)\n",
    "        ub = float(boundaries.pop(1))\n",
    "        lb = float(boundaries.pop())\n",
    "        if lb >= min(patients['a_patientid']) or ub <= max(\n",
    "                patients['a_patientid']):\n",
    "            # for patid in set(patients['a_patientid'].astype(str)):\n",
    "            #     if patid>lb and patid<ub:\n",
    "            chunk = pd.read_parquet(f's3://icusics-db/{my_bucket_object.key}')\n",
    "            aux = chunk[(chunk['a_variableid'].isin([3030003500, 4030003500]))\n",
    "                        & (chunk['time'] <= 1440) & (chunk['a_patientid'].isin(\n",
    "                            set(patients['a_patientid'])))]\n",
    "            # assert len(aux) > 0\n",
    "            sao2_fio2.append(aux)\n",
    "            if len(aux) > 0:\n",
    "                print('found!')\n",
    "\n",
    "sao2_fio2 = pd.concat(sao2_fio2)\n",
    "\n",
    "# After some analysis, we found that variables 3015002262 and 4015003358 correspond to mechanical ventilation\n",
    "# For variable 3015002262, we have to restrict to the value '12'\n",
    "# For variable 4015003358, we have to restrict to the values '5', '9' and '11'\n",
    "\n",
    "observed_categoric = pd.read_parquet(\n",
    "    's3://icusics-db/observed_categoric/observed_categoric_h3.parquet')\n",
    "mv_patients_h3 = list(\n",
    "    set(observed_categoric[(observed_categoric['a_variableid'] == 3015002262)\n",
    "                           & (observed_categoric['time'] <= 1440) &\n",
    "                           (observed_categoric['choicecode']\n",
    "                            == 12)]['a_patientid']))\n",
    "\n",
    "observed_categoric = pd.read_parquet(\n",
    "    's3://icusics-db/observed_categoric/observed_categoric_h4.parquet')\n",
    "mv_patients_h4 = list(\n",
    "    set(observed_categoric[(observed_categoric['a_variableid'] == 4015003358)\n",
    "                           & (observed_categoric['time'] <= 1440) &\n",
    "                           (observed_categoric['choicecode'].isin(\n",
    "                               [5, 9, 11]))]['a_patientid']))\n",
    "\n",
    "mv_patients = mv_patients_h3 + mv_patients_h4"
   ]
  },
  {
   "cell_type": "code",
   "execution_count": null,
   "id": "1c89902a",
   "metadata": {},
   "outputs": [],
   "source": [
    "resp_sofa = sao2_fio2.groupby('a_patientid',\n",
    "                      as_index=False).min()[['a_patientid', 'value']]\n",
    "resp_sofa.rename(columns={'value': 'sao2_fio2'}, inplace=True)\n",
    "\n",
    "resp_sofa.loc[:, 'ventilated'] = False\n",
    "resp_sofa.loc[resp_sofa['a_patientid'].isin(set(mv_patients['a_patientid'])),\n",
    "                'ventilated'] = True\n",
    "resp_sofa.loc[:, 'resp_sofa'] = resp_sofa.apply(resp, axis=1)"
   ]
  },
  {
   "cell_type": "markdown",
   "id": "0e9ab062",
   "metadata": {},
   "source": [
    "### Now we go for the renal SOFA"
   ]
  },
  {
   "cell_type": "code",
   "execution_count": null,
   "id": "cf452360",
   "metadata": {},
   "outputs": [],
   "source": [
    "# We found that observed numeric variables 4010014610 and 3010014610 contain the creatinine\n",
    "moncat_1 = pd.read_parquet(\n",
    "    's3://icusics-db/observed_numeric/observed_numeric_h3.parquet')\n",
    "moncat_2 = pd.read_parquet(\n",
    "    's3://icusics-db/observed_numeric/observed_numeric_h4.parquet')\n",
    "\n",
    "moncat = pd.concat([moncat_1, moncat_2])\n",
    "\n",
    "renal_sofa = moncat[((moncat['time'] > 0) & (moncat['time'] <= 1440))\n",
    "                     & ((moncat['a_variableid'] == 4010014610)\n",
    "                        | (moncat['a_variableid'] == 3010014610))].copy()\n",
    "renal_sofa = renal_sofa.groupby(['a_patientid'], as_index=False).max()"
   ]
  },
  {
   "cell_type": "code",
   "execution_count": null,
   "id": "3231105b",
   "metadata": {},
   "outputs": [],
   "source": [
    "def func_creat(x):\n",
    "    if x['value'] >= 5.0:\n",
    "        return 4\n",
    "    elif x['value'] >= 3.5 and x['value'] < 5.0:\n",
    "        return 3\n",
    "    elif x['value'] >= 2.0 and x['value'] < 3.5:\n",
    "        return 2\n",
    "    elif x['value'] >= 1.2 and x['value'] < 2.0:\n",
    "        return 1\n",
    "    else:\n",
    "        return 0\n",
    "renal_sofa.loc[:, 'renal_sofa'] = renal_sofa.apply(func_creat, axis=1)"
   ]
  },
  {
   "cell_type": "markdown",
   "id": "c94ce8eb",
   "metadata": {},
   "source": [
    "### Then, the liver one"
   ]
  },
  {
   "cell_type": "code",
   "execution_count": null,
   "id": "7c20c81a",
   "metadata": {},
   "outputs": [],
   "source": [
    "# We found that observed numeric variables 4020004300, 3024000642 and 3010014610 contain the bilirubin\n",
    "\n",
    "labres_1 = pd.read_parquet('s3://icusics-db/labresults_numeric/labresults_numeric_h3.parquet')\n",
    "labres_2 = pd.read_parquet('s3://icusics-db/labresults_numeric/labresults_numeric_h4.parquet')\n",
    "\n",
    "labres = pd.concat([labres_1,labres_2])\n",
    "\n",
    "liver_sofa = labres[((labres['time'] > 0) & (labres['time'] <= 1440))\n",
    "                 & ((labres['a_variableid'] == 4020004300)\n",
    "                    | (labres['a_variableid'] == 3024000642)\n",
    "                    | (labres['a_variableid'] == 3020004300))]\n",
    "liver_sofa = liver_sofa.groupby(['a_patientid']).max()"
   ]
  },
  {
   "cell_type": "code",
   "execution_count": null,
   "id": "34e74ca4",
   "metadata": {},
   "outputs": [],
   "source": [
    "def func_bill(x):\n",
    "    if x['value'] >= 12.0:\n",
    "        return 4\n",
    "    elif x['value'] >= 6.0:\n",
    "        return 3\n",
    "    elif x['value'] >= 2.0:\n",
    "        return 2\n",
    "    elif x['value'] >= 1.2:\n",
    "        return 1\n",
    "    elif np.isnan(x['value']):\n",
    "        return np.nan\n",
    "    else:\n",
    "        return 0\n",
    "liver_sofa.loc[:, 'liver_sofa'] = liver_sofa.apply(func_bill, axis=1)"
   ]
  },
  {
   "cell_type": "markdown",
   "id": "d0b5ff02",
   "metadata": {},
   "source": [
    "### Let's find the coagulation SOFA"
   ]
  },
  {
   "cell_type": "code",
   "execution_count": null,
   "id": "3666817a",
   "metadata": {},
   "outputs": [],
   "source": [
    "# We found that observed numeric variables 3024006332 and 4020000110 contain the platelets\n",
    "\n",
    "coag_sofa = labres[((labres['time'] > 0) & (labres['time'] <= 1440))\n",
    "                  & ((labres['a_variableid'] == 3024006332)\n",
    "                     | (labres['a_variableid'] == 4020000110))]\n",
    "coag_sofa = coag_sofa.groupby(['a_patientid']).max()"
   ]
  },
  {
   "cell_type": "code",
   "execution_count": null,
   "id": "f05a5078",
   "metadata": {},
   "outputs": [],
   "source": [
    "def func_plaq(x):\n",
    "    if x['value'] < 20.0:\n",
    "        return 4\n",
    "    elif x['value'] < 50.0:\n",
    "        return 3\n",
    "    elif x['value'] < 100.0:\n",
    "        return 2\n",
    "    elif x['value'] < 150.0:\n",
    "        return 1\n",
    "    elif np.isnan(x['value']):\n",
    "        return np.nan\n",
    "    else:\n",
    "        return 0\n",
    "coag_sofa.loc[:, 'coag_sofa'] = coag_sofa.apply(func_plaq, axis=1)"
   ]
  },
  {
   "cell_type": "markdown",
   "id": "db56db28",
   "metadata": {},
   "source": [
    "### Then, the CNS SOFA"
   ]
  },
  {
   "cell_type": "code",
   "execution_count": null,
   "id": "2bffb4e3",
   "metadata": {},
   "outputs": [],
   "source": [
    "# We found that observed numeric variables 4010014625 and 3010014625 contain the platelets\n",
    "\n",
    "cns_sofa = moncat[((moncat['time'] > 0) & (moncat['time'] <= 1440))\n",
    "                  & ((moncat['a_variableid'] == 4010014625)\n",
    "                     | (moncat['a_variableid'] == 3010014625))]\n",
    "cns_sofa = cns_sofa.groupby(['a_patientid']).max()"
   ]
  },
  {
   "cell_type": "code",
   "execution_count": null,
   "id": "9be4d755",
   "metadata": {},
   "outputs": [],
   "source": [
    "def func_glas(x):\n",
    "    gcs = x['value']\n",
    "    if (gcs>=13 and gcs<=14):\n",
    "        return 1\n",
    "    elif (gcs>=10 and gcs<=12):\n",
    "        return 2\n",
    "    elif (gcs>=6 and gcs<=9):\n",
    "        return 3\n",
    "    elif gcs<6:\n",
    "        return 4\n",
    "    elif np.isnan(gcs):\n",
    "        return np.nan\n",
    "    else:\n",
    "        return 0\n",
    "cns_sofa.loc[:, 'cns_sofa'] = cns_sofa.apply(func_glas, axis=1)"
   ]
  },
  {
   "cell_type": "markdown",
   "id": "95f5b418",
   "metadata": {},
   "source": [
    "### Now the vasoactive drugs"
   ]
  },
  {
   "cell_type": "code",
   "execution_count": null,
   "id": "26bf32f9",
   "metadata": {},
   "outputs": [],
   "source": [
    "d_pharma = pd.read_parquet(f's3://icusics-db/d_pharma/d_pharma.parquet')\n",
    "pharma_records3 = pd.read_parquet(\n",
    "    f's3://icusics-db/pharma_records/pharma_records_h3.parquet')\n",
    "pharma_records4 = pd.read_parquet(\n",
    "    f's3://icusics-db/pharma_records/pharma_records_h4.parquet')\n",
    "pharma_records = pd.concat([pharma_records3, pharma_records4])\n",
    "\n",
    "drug_ids = [\n",
    "    3000000060, 3000000103, 3000000183, 3000000225, 3000000225, 3000000346,\n",
    "    4001005959, 4001008022, 4001006036, 4001008009, 4001008013, 4001008012,\n",
    "    4001006233, 4001005925\n",
    "]\n",
    "\n",
    "filtered_df_pharma_records_cardio = pharma_records[\n",
    "    pharma_records['a_pharmaid'].isin(drug_ids)]\n",
    "filtered_df_pharma_records_cardio = filtered_df_pharma_records_cardio[\n",
    "    filtered_df_pharma_records_cardio[\"time\"] <= 1440]\n",
    "\n",
    "df = df.groupby(['a_patientid', 'a_pharmaid'], as_index=False).max('givendose')\n",
    "\n",
    "replace_values = {\n",
    "    3000000183: 'NORADRENALINA',\n",
    "    4001006036: 'NORADRENALINA',\n",
    "    4001008022: 'NORADRENALINA',\n",
    "    4001005959: 'ADRENALINA',\n",
    "    4001008009: 'ADRENALINA',\n",
    "    3000000103: 'ADRENALINA',\n",
    "    3000000225: 'ADRENALINA',\n",
    "    3000000060: 'dopamine',\n",
    "    4001005925: 'dopamine',\n",
    "    4001008013: 'dopamine',\n",
    "    3000000346: 'dobutamina',\n",
    "    4001006233: 'dobutamina',\n",
    "    4001008012: 'dobutamina'\n",
    "}\n",
    "\n",
    "df['a_pharmaid'] = df['a_pharmaid'].replace(replace_values)\n",
    "table = pd.pivot_table(dfcombine,\n",
    "                       values='givendose',\n",
    "                       index=['a_patientid'],\n",
    "                       columns=['a_pharmaid'])\n",
    "\n",
    "\n",
    "def cardio(x):\n",
    "    if x['dopamine'] > 15 or x['ADRENALINA'] > 0.1 or x['NORADRENALINA'] > 0.1:\n",
    "        return 4\n",
    "    elif x['dopamine'] > 5 or (x['ADRENALINA'] <= 0.1 and x['ADRENALINA'] > 0\n",
    "                               ) or (x['NORADRENALINA'] <= 0.1\n",
    "                                     and x['NORADRENALINA'] > 0):\n",
    "        return 3\n",
    "    elif x['dopamine'] > 0 or x['dobutamina'] > 0:\n",
    "        return 2\n",
    "    elif x['value'] < 70:\n",
    "        return 1\n",
    "    elif np.isnan([\n",
    "            x['value'], x['dopamine'], x['dobutamina'], x['ADRENALINA'],\n",
    "            x['NORADRENALINA']\n",
    "    ]).all():\n",
    "        return np.nan\n",
    "    else:\n",
    "        return 0\n",
    "\n",
    "\n",
    "meanbp = pd.read_csv(\"meanbp.csv\")\n",
    "cardio_sofa = table.merge(meanbp, on='a_patientid', how='left')\n",
    "cardio_sofa['cardio_sofa'] = cardio_sofa.apply(cardio, axis=1)"
   ]
  },
  {
   "cell_type": "markdown",
   "id": "a701be65",
   "metadata": {},
   "source": [
    "## Now, merge everything"
   ]
  },
  {
   "cell_type": "code",
   "execution_count": null,
   "id": "c27c5415",
   "metadata": {},
   "outputs": [],
   "source": [
    "sofa_score = pd.merge(cardio_sofa[['a_patientid', 'cardio_sofa']], resp+sofa[['a_patientid', 'resp_sofa']], on='a_patientid', how='outer')\n",
    "sofa_score = pd.merge(sofa_score, sofa_coag[['a_patientid', 'sofa_coag']], on='a_patientid', how='outer')\n",
    "sofa_score = pd.merge(sofa_score, sofa_liver[['a_patientid', 'sofa_liver']], on='a_patientid', how='outer')\n",
    "sofa_score = pd.merge(sofa_score, sofa_nerv[['a_patientid', 'sofa_nervioso']], on='a_patientid', how='outer')\n",
    "sofa_score = pd.merge(sofa_score, sofa_renal[['a_patientid', 'sofa_renal']], on='a_patientid', how='outer')"
   ]
  },
  {
   "cell_type": "code",
   "execution_count": null,
   "id": "7656f997",
   "metadata": {},
   "outputs": [],
   "source": [
    "sofa_score.loc[:, 'sofa_score'] = sofa_score.set_index('a_patientid').sum(axis=1).values"
   ]
  },
  {
   "cell_type": "code",
   "execution_count": null,
   "id": "d725c330",
   "metadata": {},
   "outputs": [],
   "source": [
    "icusics_db_patients = pd.read_parquet(\n",
    "    \"s3://icusics-db/patients/patients.parquet\")\n",
    "patients = icusics_db_patients[icusics_db_patients['hospital_coded'].isin(\n",
    "    [3, 4])].copy()\n",
    "\n",
    "patients.loc[:, 'icu_outcome'] = 'ALIVE'\n",
    "patients.loc[patients['hospdistime'] - patients['distime'] < 1440,\n",
    "             'icu_outcome'] = patients.loc[patients['hospdistime'] -\n",
    "                                           patients['distime'] < 1440,\n",
    "                                           'hospital_outcome']\n",
    "\n",
    "patients.loc[:, '24h_outcome'] = 'ALIVE'\n",
    "patients.loc[(patients['icu_outcome'] == 'EXITUS') &\n",
    "             (patients['distime'] <= 1440), '24h_outcome'] = 'EXITUS'\n",
    "\n",
    "patients.loc[:, '5d_outcome'] = 'ALIVE'\n",
    "patients.loc[(patients['icu_outcome'] == 'EXITUS') &\n",
    "             (patients['distime'] <= 1440 * 5), '5d_outcome'] = 'EXITUS'\n",
    "\n",
    "merged = pd.merge(patients, sofa_score, on='a_patientid', how='left')\n",
    "\n",
    "diags_h3 = pd.read_parquet('s3://icusics-db/diagnoses/diagnoses_h3.parquet')\n",
    "diags_h4 = pd.read_parquet('s3://icusics-db/diagnoses/diagnoses_h4.parquet')\n",
    "diags = pd.concat([diags_h3, diags_h4])\n",
    "\n",
    "diag_to_exclude = diags[diags['referencecode'].str.startswith('S', na=False)\n",
    "                        | diags['referencecode'].str.startswith('T', na=False)\n",
    "                        | diags['referencecode'].str.startswith('O', na=False)]\n",
    "patients_to_exclude = set(diag_to_exclude['a_patientid'])\n",
    "\n",
    "merged = merged[~merged['a_patientid'].isin(patients_to_exclude)].copy()\n",
    "\n",
    "pic_patients = set(\n",
    "    pd.read_csv('pic_to_exclude.csv', index_col=0)['a_patientid'])\n",
    "merged = merged[~merged['a_patientid'].isin(pic_patients)].copy()\n",
    "\n",
    "merged.loc[:, 'with_antibiotics'] = False\n",
    "merged.loc[\n",
    "    merged['a_patientid'].isin(set(antibiotics_patients['a_patientid'])),\n",
    "    'with_antibiotics'] = True\n",
    "\n",
    "\n",
    "def get_age_group(x):\n",
    "    if x <= 35:\n",
    "        return '20-35'\n",
    "    if x <= 50:\n",
    "        return '36-50'\n",
    "    if x <= 65:\n",
    "        return '51-65'\n",
    "    return '>65'\n",
    "\n",
    "\n",
    "def get_obesity(x):\n",
    "    if x <= 18.5:\n",
    "        return 'underweight'\n",
    "    if x < 25:\n",
    "        return 'normal'\n",
    "    if x < 30:\n",
    "        return 'overweight'\n",
    "    if x < 35:\n",
    "        return 'obesity g1'\n",
    "    if x < 40:\n",
    "        return 'obesity g2'\n",
    "    return 'obesity g3'\n",
    "\n",
    "\n",
    "merged.loc[:, 'age_group'] = merged['age'].apply(get_age_group)\n",
    "merged.loc[:, 'obesity_group'] = merged['bmi'].apply(get_obesity)\n",
    "\n",
    "merged.to_csv('cohort.csv', index=False)"
   ]
  }
 ],
 "metadata": {
  "kernelspec": {
   "display_name": "Python 3 (ipykernel)",
   "language": "python",
   "name": "python3"
  },
  "language_info": {
   "codemirror_mode": {
    "name": "ipython",
    "version": 3
   },
   "file_extension": ".py",
   "mimetype": "text/x-python",
   "name": "python",
   "nbconvert_exporter": "python",
   "pygments_lexer": "ipython3",
   "version": "3.9.15"
  },
  "varInspector": {
   "cols": {
    "lenName": 16,
    "lenType": 16,
    "lenVar": 40
   },
   "kernels_config": {
    "python": {
     "delete_cmd_postfix": "",
     "delete_cmd_prefix": "del ",
     "library": "var_list.py",
     "varRefreshCmd": "print(var_dic_list())"
    },
    "r": {
     "delete_cmd_postfix": ") ",
     "delete_cmd_prefix": "rm(",
     "library": "var_list.r",
     "varRefreshCmd": "cat(var_dic_list()) "
    }
   },
   "types_to_exclude": [
    "module",
    "function",
    "builtin_function_or_method",
    "instance",
    "_Feature"
   ],
   "window_display": false
  }
 },
 "nbformat": 4,
 "nbformat_minor": 5
}
